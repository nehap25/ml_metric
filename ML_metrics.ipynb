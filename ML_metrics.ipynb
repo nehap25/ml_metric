{
 "cells": [
  {
   "cell_type": "code",
   "execution_count": 33,
   "metadata": {},
   "outputs": [
    {
     "name": "stdout",
     "output_type": "stream",
     "text": [
      "169971\n"
     ]
    }
   ],
   "source": [
    "import logging\n",
    "import ConfigParser\n",
    "import csv\n",
    "import functools\n",
    "import getpass\n",
    "import koji\n",
    "import datetime\n",
    "import time\n",
    "from requests.exceptions import ConnectionError\n",
    "import numpy as np\n",
    "import pandas as pd\n",
    "import scipy.stats as stats\n",
    "import matplotlib.pyplot as plt\n",
    "import sklearn\n",
    "from sklearn.linear_model import LinearRegression\n",
    "\n",
    "class Brew():\n",
    "\n",
    "    def __init__(self):\n",
    "        self.client = koji.ClientSession('http://brewhub.engineering.redhat.com/brewhub')\n",
    "    \n",
    "    def retry(timeout=240, interval=60, wait_on=Exception):\n",
    "        \"\"\" A decorator that allows to retry a section of code...\n",
    "        ...until success or timeout.\n",
    "        \"\"\"\n",
    "        def wrapper(function):\n",
    "            @functools.wraps(function)\n",
    "            def inner(*args, **kwargs):\n",
    "                start = time.time()\n",
    "                while True:\n",
    "                    if (time.time() - start) >= timeout:\n",
    "                        raise  # This re-raises the last exception.\n",
    "                    try:\n",
    "                        return function(*args, **kwargs)\n",
    "                    except wait_on as e:\n",
    "                        print(\"Exception %r raised from %r.  Retry in %rs\" % (\n",
    "                            e, function, interval))\n",
    "                        time.sleep(interval)\n",
    "            return inner\n",
    "        return wrapper\n",
    "\n",
    "    def iterator(self, start_date, end_date):\n",
    "        current_date = start_date\n",
    "        delta = datetime.timedelta(days=1)\n",
    "        while current_date < end_date:\n",
    "            yield current_date\n",
    "            current_date += delta\n",
    "            \n",
    "    @retry(wait_on=ConnectionError)\n",
    "    def find_data(self):\n",
    "        # fetch builds from Teiid\n",
    "        docs = []\n",
    "        start_date = datetime.datetime.strptime(\n",
    "                '2015-01-01', '%Y-%m-%d').date()\n",
    "        end_date = datetime.date.today()\n",
    "        previous_date = start_date\n",
    "        count = 0\n",
    "        for date in self.iterator(start_date, end_date):\n",
    "            builds = self.client.listBuilds(\n",
    "                    completeAfter=str(previous_date), completeBefore=str(date))\n",
    "            docs.extend(builds)\n",
    "            previous_date = date\n",
    "            count += 1\n",
    "            if count%5 == 0:\n",
    "                time.sleep(1)\n",
    "\n",
    "        return docs\n",
    "    \n",
    "    def copy_data_in_csv(self, docs):\n",
    "        # This is just faster in terms of retrieval. The calculation of diff and removal of None \n",
    "        # would be easier in dataframes.\n",
    "        print len(docs)\n",
    "        the_file = open(\"metric_data.csv\", \"w\")\n",
    "        writer = csv.DictWriter(the_file, docs[0].keys())\n",
    "        writer.writeheader()\n",
    "        writer.writerows(docs)\n",
    "        the_file.close()        \n",
    "    \n",
    "br = Brew()\n",
    "docs = br.find_data()\n",
    "br.copy_data_in_csv(docs)\n"
   ]
  },
  {
   "cell_type": "code",
   "execution_count": 108,
   "metadata": {},
   "outputs": [],
   "source": [
    "# Read data from csv to a dataframe\n",
    "import pandas as pd\n",
    "data_df = pd.read_csv(\"metric_data.csv\")\n",
    "# data_df"
   ]
  },
  {
   "cell_type": "code",
   "execution_count": 109,
   "metadata": {},
   "outputs": [
    {
     "name": "stdout",
     "output_type": "stream",
     "text": [
      "Total builds in data_df:  169971\n",
      "Builds having NaN wait times:  60615\n",
      "Builds left after removing NaN wait times:  109356\n"
     ]
    }
   ],
   "source": [
    "# Calculate the waiting time of a build\n",
    "print \"Total builds in data_df: \", len(data_df)\n",
    "data_df['waiting_time(seconds)'] = (data_df.creation_ts - data_df.start_ts)\n",
    "diff_df = data_df[['creation_ts','start_ts','waiting_time(seconds)']]\n",
    "\n",
    "null_wait_data_df = data_df[pd.isnull(data_df['waiting_time(seconds)'])]\n",
    "data_df = data_df[pd.notnull(data_df['waiting_time(seconds)'])]\n",
    "print \"Builds having NaN wait times: \", len(null_wait_data_df)\n",
    "print \"Builds left after removing NaN wait times: \", len(data_df)\n",
    "# diff_df"
   ]
  },
  {
   "cell_type": "code",
   "execution_count": 110,
   "metadata": {},
   "outputs": [
    {
     "name": "stdout",
     "output_type": "stream",
     "text": [
      "Docker builds (total):  18494\n",
      "Non-Docker builds (total):  90862\n"
     ]
    }
   ],
   "source": [
    "# Separate out the docker and non-docker builds because it looks like\n",
    "# only docker builds have a lag\n",
    "docker_builds = []\n",
    "non_docker_builds = []\n",
    "docker_builds = data_df[pd.notnull(data_df['extra'])].values.tolist()\n",
    "non_docker_builds = data_df[pd.isnull(data_df['extra'])].values.tolist()\n",
    "print \"Docker builds (total): \",len(docker_builds)\n",
    "print \"Non-Docker builds (total): \", len(non_docker_builds)"
   ]
  },
  {
   "cell_type": "code",
   "execution_count": 111,
   "metadata": {},
   "outputs": [
    {
     "data": {
      "image/png": "[encoded data removed]",
      "text/plain": [
       "<matplotlib.figure.Figure at 0x4cf05090>"
      ]
     },
     "metadata": {},
     "output_type": "display_data"
    }
   ],
   "source": [
    "# Plotting the number of docker and non-docker builds\n",
    "import numpy as np\n",
    "import matplotlib.pyplot as plt\n",
    "import datetime\n",
    "\n",
    "D = {'docker_builds':len(docker_builds), 'non_docker_builds':len(non_docker_builds)}\n",
    "\n",
    "plt.bar(range(len(D)), D.values(), align='center')\n",
    "plt.xticks(range(len(D)), D.keys())\n",
    "\n",
    "plt.show()\n"
   ]
  },
  {
   "cell_type": "code",
   "execution_count": 119,
   "metadata": {},
   "outputs": [
    {
     "name": "stdout",
     "output_type": "stream",
     "text": [
      "['osbs-buildroot-docker', \"{'image': {}}\", '2016-05-31 08:50:39.278758', '2016-05-31 08:50:12', 50072, 497336, 2, 'git://pkgs.devel.redhat.com/rpms/osbs-buildroot-docker#2222014aef343ed4ab6a24439222e5e070b2af58', nan, '1.0', 1464684612.0, 3436, 'osbs', 'osbs-buildroot-docker-1.0-1.0.twaugh.31', '2016-05-31 12:40:13', 13306028, 1464698413.0, 0, 1464684639.27876, 'osbs-buildroot-docker', nan, 'DEFAULT', '1.0.twaugh.31', -13773.72124004364]\n",
      "Number of builds having NEGATIVE wait time:  34\n"
     ]
    }
   ],
   "source": [
    "# Builds having negative wait time\n",
    "mystery_machine = []\n",
    "for i in data_df.values.tolist():\n",
    "    if (i[len(i)-1] == 0):\n",
    "        continue\n",
    "    elif(i[len(i)-1] > 0):\n",
    "        continue\n",
    "    else:\n",
    "        mystery_machine.append(i)\n",
    "print mystery_machine[0]\n",
    "\n",
    "print \"Number of builds having NEGATIVE wait time: \", len(mystery_machine)"
   ]
  },
  {
   "cell_type": "code",
   "execution_count": 120,
   "metadata": {},
   "outputs": [
    {
     "name": "stdout",
     "output_type": "stream",
     "text": [
      "['osbs-buildroot-docker', \"{'image': {}}\", '2016-05-31 08:50:39.278758', '2016-05-31 08:50:12', 50072, 497336, 2, 'git://pkgs.devel.redhat.com/rpms/osbs-buildroot-docker#2222014aef343ed4ab6a24439222e5e070b2af58', nan, '1.0', 1464684612.0, 3436, 'osbs', 'osbs-buildroot-docker-1.0-1.0.twaugh.31', '2016-05-31 12:40:13', 13306028, 1464698413.0, 0, 1464684639.27876, 'osbs-buildroot-docker', nan, 'DEFAULT', '1.0.twaugh.31', -13773.72124004364]\n",
      "['rsyslog-docker', \"{'image': {}, 'container_koji_task_id': '11139794'}\", '2016-06-06 16:47:16.861151', '2016-06-06 16:47:02', 50062, 498293, 2, 'git://pkgs.devel.redhat.com/rpms/rsyslog-docker#1981fdbfb3e8b08ab3dcb45933fe5ff499cdbd01', nan, '7.2', 1465231622.0, 3436, 'osbs', 'rsyslog-docker-7.2-21.vrutkovs.test17', '2016-06-06 20:40:36', 13335113, 1465245636.0, 0, 1465231636.86115, 'rsyslog-docker', nan, 'DEFAULT', '21.vrutkovs.test17', -13999.138849973679]\n",
      "['osbs-buildroot-docker', \"{'image': {}, 'container_koji_task_id': '11140135'}\", '2016-06-06 17:17:45.437284', '2016-06-06 17:17:24', 50072, 498307, 2, 'git://pkgs.devel.redhat.com/rpms/osbs-buildroot-docker#83efc9c832bb1fa18bccb0372e26fc28d691ff03', nan, '1.0', 1465233444.0, 3436, 'osbs', 'osbs-buildroot-docker-1.0-27.vrutkovs.prerelease.12', '2016-06-06 21:09:12', 13335325, 1465247352.0, 0, 1465233465.4372802, 'osbs-buildroot-docker', nan, 'DEFAULT', '27.vrutkovs.prerelease.12', -13886.56271982193]\n",
      "['kubernetes-master-docker', \"{'image': {}, 'container_koji_task_id': '11140344'}\", '2016-06-06 17:35:06.122153', '2016-06-06 17:34:51', 53231, 498310, 2, 'git://pkgs.devel.redhat.com/rpms/kubernetes-master-docker#d73d6f78e4c6596bfb4260c7ebfa1b372e254543', nan, '1.2.0', 1465234491.0, 3436, 'osbs', 'kubernetes-master-docker-1.2.0-9', '2016-06-06 21:26:05', 13335403, 1465248365.0, 0, 1465234506.12215, 'kubernetes-master-docker', nan, 'DEFAULT', '9', -13858.877850055695]\n",
      "['kubernetes-scheduler-docker', \"{'image': {}, 'container_koji_task_id': '11140501'}\", '2016-06-06 17:59:09.279061', '2016-06-06 17:58:50', 53233, 498315, 2, 'git://pkgs.devel.redhat.com/rpms/kubernetes-scheduler-docker#ae030f507f90b5f0cb9b859b6c0da289bb20930c', nan, '1.2.0', 1465235930.0, 3436, 'osbs', 'kubernetes-scheduler-docker-1.2.0-9', '2016-06-06 21:45:22', 13335566, 1465249522.0, 0, 1465235949.27906, 'kubernetes-scheduler-docker', nan, 'DEFAULT', '9', -13572.720940113068]\n",
      "['kubernetes-controller-manager-docker', \"{'image': {}, 'container_koji_task_id': '11140500'}\", '2016-06-06 17:59:09.457117', '2016-06-06 17:58:50', 53234, 498316, 2, 'git://pkgs.devel.redhat.com/rpms/kubernetes-controller-manager-docker#bb198424a2495a131bd3ea0b8efb3946acbce5f7', nan, '1.2.0', 1465235930.0, 3436, 'osbs', 'kubernetes-controller-manager-docker-1.2.0-9', '2016-06-06 21:45:21', 13335567, 1465249521.0, 0, 1465235949.45712, 'kubernetes-controller-manager-docker', nan, 'DEFAULT', '9', -13571.542880058289]\n",
      "['kubernetes-apiserver-docker', \"{'image': {}, 'container_koji_task_id': '11140497'}\", '2016-06-06 17:59:10.074173', '2016-06-06 17:58:50', 53232, 498317, 2, 'git://pkgs.devel.redhat.com/rpms/kubernetes-apiserver-docker#b7104cfc1c4a58b5952b0bd2e9316a675633e897', nan, '1.2.0', 1465235930.0, 3436, 'osbs', 'kubernetes-apiserver-docker-1.2.0-9', '2016-06-06 21:44:31', 13335568, 1465249471.0, 0, 1465235950.0741699, 'kubernetes-apiserver-docker', nan, 'DEFAULT', '9', -13520.925830125809]\n",
      "['logging-fluentd-docker', \"{'image': {}, 'container_koji_task_id': '11140498'}\", '2016-06-06 18:00:06.133345', '2016-06-06 17:59:48', 54384, 498319, 2, 'git://pkgs.devel.redhat.com/rpms/logging-fluentd-docker#2c65f5946d296cc4f84f80e045e7719a03c128f9', nan, '3.2.1', 1465235988.0, 3436, 'osbs', 'logging-fluentd-docker-3.2.1-2', '2016-06-06 21:44:33', 13335580, 1465249473.0, 0, 1465236006.1333401, 'logging-fluentd-docker', nan, 'DEFAULT', '2', -13466.866659879684]\n",
      "['logging-kibana-docker', \"{'image': {}, 'container_koji_task_id': '11140493'}\", '2016-06-06 18:00:19.291225', '2016-06-06 18:00:00', 54383, 498320, 2, 'git://pkgs.devel.redhat.com/rpms/logging-kibana-docker#02e988c47d2937209070c1fd0eab2d563f4a853c', nan, '3.2.1', 1465236000.0, 3436, 'osbs', 'logging-kibana-docker-3.2.1-2', '2016-06-06 21:43:42', 13335581, 1465249422.0, 0, 1465236019.29122, 'logging-kibana-docker', nan, 'DEFAULT', '2', -13402.708780050278]\n",
      "['logging-auth-proxy-docker', \"{'image': {}, 'container_koji_task_id': '11140589'}\", '2016-06-06 18:06:52.742412', '2016-06-06 18:06:36', 54387, 498323, 2, 'git://pkgs.devel.redhat.com/rpms/logging-auth-proxy-docker#b15b1e0af2ac944bf661ab81df25efd8226d87d0', nan, '3.2.1', 1465236396.0, 3436, 'osbs', 'logging-auth-proxy-docker-3.2.1-1', '2016-06-06 22:02:09', 13335604, 1465250529.0, 0, 1465236412.74241, 'logging-auth-proxy-docker', nan, 'DEFAULT', '1', -14116.257590055466]\n",
      "['cockpit-ws-docker', \"{'image': {}, 'container_koji_task_id': '11140876'}\", '2016-06-06 19:11:28.133951', '2016-06-06 19:11:14', 54565, 498341, 2, 'git://pkgs.devel.redhat.com/rpms/cockpit-ws-docker#2f0d257c5d028306a570978fd2ff11744599f2e0', nan, '0.108', 1465240274.0, 3436, 'osbs', 'cockpit-ws-docker-0.108-1', '2016-06-06 23:02:32', 13335877, 1465254152.0, 0, 1465240288.13395, 'cockpit-ws-docker', nan, 'DEFAULT', '1', -13863.86605000496]\n",
      "['openscap-docker', \"{'image': {}, 'container_koji_task_id': '11140914'}\", '2016-06-06 19:17:01.796463', '2016-06-06 19:16:45', 58274, 498343, 2, 'git://pkgs.devel.redhat.com/rpms/openscap-docker#bedd3ab7b84ab6961e62d1b1ee68e8f6f66adae0', nan, '7.2', 1465240605.0, 3436, 'osbs', 'openscap-docker-7.2-7', '2016-06-06 23:06:23', 13335910, 1465254383.0, 0, 1465240621.79646, 'openscap-docker', nan, 'DEFAULT', '7', -13761.203540086746]\n",
      "['rsyslog-docker', \"{'image': {}, 'container_koji_task_id': '11141201'}\", '2016-06-06 20:11:57.841191', '2016-06-06 20:11:45', 50062, 498350, 2, 'git://pkgs.devel.redhat.com/rpms/rsyslog-docker#b8414e0aa9be98fa2696dc636d3d454d85db39c4', nan, '7.2', 1465243905.0, 3436, 'osbs', 'rsyslog-docker-7.2-21.kboran.1', '2016-06-06 23:59:55', 13336075, 1465257595.0, 0, 1465243917.84119, 'rsyslog-docker', nan, 'DEFAULT', '21.kboran.1', -13677.158809900284]\n",
      "['jboss-eap-6-eap64-docker', \"{'image': {}, 'container_koji_task_id': '11142663'}\", '2016-06-07 06:04:53.250167', '2016-06-07 06:04:00', 53990, 498374, 2, 'git://pkgs.devel.redhat.com/rpms/jboss-eap-6-docker#4283a3d7e82651e148e31b4a7cc33b1bcf31e946', nan, '1.3', 1465279440.0, 3436, 'osbs', 'jboss-eap-6-eap64-docker-1.3-2', '2016-06-07 09:49:54', 13337327, 1465292994.0, 0, 1465279493.25017, 'jboss-eap-6-eap64-docker', nan, 'DEFAULT', '2', -13500.749830007553]\n",
      "['redhat-sso-7-sso70-openshift-docker', \"{'image': {}, 'container_koji_task_id': '11142724'}\", '2016-06-07 07:01:45.532662', '2016-06-07 07:00:27', 56854, 498376, 2, 'git://pkgs.devel.redhat.com/rpms/redhat-sso-7-docker#4f0082c55ee17a8fa1411ffc286e9ff6ebf17f72', nan, '1.3', 1465282827.0, 3436, 'osbs', 'redhat-sso-7-sso70-openshift-docker-1.3-12', '2016-06-07 09:55:18', 13337597, 1465293318.0, 0, 1465282905.53266, 'redhat-sso-7-sso70-openshift-docker', nan, 'DEFAULT', '12', -10412.467339992523]\n",
      "['jboss-eap-7-eap70-openshift-docker', \"{'image': {}, 'container_koji_task_id': '11142741'}\", '2016-06-07 07:06:38.6364', '2016-06-07 07:05:28', 56888, 498378, 2, 'git://pkgs.devel.redhat.com/rpms/jboss-eap-7-docker#11723c426a6ef028bff5a70aa91e12e8708078c5', nan, '1.4', 1465283128.0, 3436, 'osbs', 'jboss-eap-7-eap70-openshift-docker-1.4-4', '2016-06-07 09:56:54', 13337623, 1465293414.0, 0, 1465283198.6364, 'jboss-eap-7-eap70-openshift-docker', nan, 'DEFAULT', '4', -10215.36360001564]\n",
      "['jboss-eap-6-eap64-openshift-docker', \"{'image': {}, 'container_koji_task_id': '11142954'}\", '2016-06-07 07:20:49.799298', '2016-06-07 07:19:32', 53991, 498379, 2, 'git://pkgs.devel.redhat.com/rpms/jboss-eap-6-docker#fa078b083c041ce1ce60c76371ba7e8d490967a8', nan, '1.4', 1465283972.0, 3436, 'osbs', 'jboss-eap-6-eap64-openshift-docker-1.4-6', '2016-06-07 10:18:24', 13337678, 1465294704.0, 0, 1465284049.7993, 'jboss-eap-6-eap64-openshift-docker', nan, 'DEFAULT', '6', -10654.200700044632]\n",
      "['jboss-kieserver-6-kieserver63-openshift-docker', \"{'image': {}, 'container_koji_task_id': '11143804'}\", '2016-06-07 08:43:23.555174', '2016-06-07 08:42:12', 57829, 498389, 2, 'git://pkgs.devel.redhat.com/rpms/jboss-kieserver-6-docker#d96bdb21c18734a9bf12e13c64c1229219c114e7', nan, '1.3', 1465288932.0, 3436, 'osbs', 'jboss-kieserver-6-kieserver63-openshift-docker-1.3-12', '2016-06-07 12:26:38', 13337974, 1465302398.0, 0, 1465289003.5551698, 'jboss-kieserver-6-kieserver63-openshift-docker', nan, 'DEFAULT', '12', -13394.444830179214]\n",
      "['jboss-processserver-6-processserver63-openshift-docker', \"{'image': {}, 'container_koji_task_id': '11143884'}\", '2016-06-07 09:04:04.138482', '2016-06-07 09:02:24', 57828, 498392, 2, 'git://pkgs.devel.redhat.com/rpms/jboss-processserver-6-docker#226246ac92dc44bb9133b18dd8384e38306663d3', nan, '1.3', 1465290144.0, 3436, 'osbs', 'jboss-processserver-6-processserver63-openshift-docker-1.3-9', '2016-06-07 12:46:28', 13338054, 1465303588.0, 0, 1465290244.1384802, 'jboss-processserver-6-processserver63-openshift-docker', nan, 'DEFAULT', '9', -13343.861519813538]\n",
      "['jboss-decisionserver-6-decisionserver63-openshift-docker', \"{'image': {}, 'container_koji_task_id': '11143891'}\", '2016-06-07 09:04:04.27372', '2016-06-07 09:02:24', 57830, 498393, 2, 'git://pkgs.devel.redhat.com/rpms/jboss-decisionserver-6-docker#e35d05876e88f388ad97f403c02997ebdda9fd43', nan, '1.3', 1465290144.0, 3436, 'osbs', 'jboss-decisionserver-6-decisionserver63-openshift-docker-1.3-5', '2016-06-07 12:48:02', 13338055, 1465303682.0, 0, 1465290244.27372, 'jboss-decisionserver-6-decisionserver63-openshift-docker', nan, 'DEFAULT', '5', -13437.726279973984]\n",
      "['rhel-tools-docker', \"{'image': {}, 'container_koji_task_id': '11143899'}\", '2016-06-07 09:31:42.675563', '2016-06-07 09:30:50', 50061, 498405, 2, 'git://pkgs.devel.redhat.com/rpms/rhel-tools-docker#2b92370d9ce562b9483009723c4f9e68c7692c1f', nan, '7.2', 1465291850.0, 3436, 'osbs', 'rhel-tools-docker-7.2-27', '2016-06-07 12:51:08', 13338147, 1465303868.0, 0, 1465291902.67556, 'rhel-tools-docker', nan, 'DEFAULT', '27', -11965.324440002441]\n",
      "['rh-ruby22-docker', \"{'image': {}, 'container_koji_task_id': '11144847'}\", '2016-06-07 12:37:11.948555', '2016-06-07 12:36:50', 53192, 498428, 1, 'git://pkgs.devel.redhat.com/rpms/rh-ruby22-docker#b02ec34231bf7fe79570ca4fd0676b64d332c0d4', nan, '2.2', 1465303010.0, 3436, 'osbs', 'rh-ruby22-docker-2.2-12.3.1', '2016-06-07 16:27:54', 13339080, 1465316874.0, 0, 1465303031.94855, 'rh-ruby22-docker', nan, 'DEFAULT', '12.3.1', -13842.051450014114]\n",
      "['openshift-sti-base-docker', \"{'image': {}, 'container_koji_task_id': '11145963'}\", '2016-06-07 14:28:48.967395', '2016-06-07 14:28:24', 53044, 498441, 2, 'git://pkgs.devel.redhat.com/rpms/openshift-sti-base-docker#acc61abc5fe6a813daef739acf09dee7ccbf3d14', nan, '1.0', 1465309704.0, 3436, 'osbs', 'openshift-sti-base-docker-1.0-39', '2016-06-07 18:19:34', 13339890, 1465323574.0, 0, 1465309728.9674, 'openshift-sti-base-docker', nan, 'DEFAULT', '39', -13845.032599925995]\n",
      "['openshift-enterprise-egress-router-docker', \"{'image': {}, 'container_koji_task_id': '11147934'}\", '2016-06-07 17:22:47.959301', '2016-06-07 17:22:33', 58212, 498475, 1, 'git://pkgs.devel.redhat.com/rpms/openshift-enterprise-egress-router-docker#88314267d461ad4c967a86ca6a34c182808d48ec', nan, 'v3.2.0.44', 1465320153.0, 3436, 'osbs', 'openshift-enterprise-egress-router-docker-v3.2.0.44-2', '2016-06-07 21:18:00', 13340943, 1465334280.0, 0, 1465320167.9593, 'openshift-enterprise-egress-router-docker', nan, 'DEFAULT', '2', -14112.040699958801]\n",
      "['cfme-docker', \"{'image': {}, 'container_koji_task_id': '11148668'}\", '2016-06-07 18:48:54.972044', '2016-06-07 18:48:15', 58269, 498480, 2, 'git://pkgs.devel.redhat.com/rpms/cfme-docker#18dbce7b9518ce4e57e45ef6a69e347242e6fb99', nan, '5.6.0.10', 1465325295.0, 3436, 'osbs', 'cfme-docker-5.6.0.10-1', '2016-06-07 22:23:54', 13341425, 1465338234.0, 0, 1465325334.97204, 'cfme-docker', nan, 'DEFAULT', '1', -12899.027960062027]\n",
      "['rhmap-fh-aaa-docker', \"{'image': {}, 'container_koji_task_id': '11151317'}\", '2016-06-08 09:45:15.3256', '2016-06-08 09:44:52', 58257, 498554, 2, 'git://pkgs.devel.redhat.com/rpms/rhmap-fh-aaa-docker#5d7559955bcbbf022458dfaaad6b2e1d408af8cd', nan, '0.2.7', 1465379092.0, 3436, 'osbs', 'rhmap-fh-aaa-docker-0.2.7-1', '2016-06-08 13:37:35', 13343570, 1465393055.0, 0, 1465379115.3256, 'rhmap-fh-aaa-docker', nan, 'DEFAULT', '1', -13939.674400091171]\n",
      "['s2i-base-docker', \"{'image': {}, 'container_koji_task_id': '11151998'}\", '2016-06-08 12:01:51.180672', '2016-06-08 12:01:32', 54282, 498564, 2, 'git://pkgs.devel.redhat.com/rpms/s2i-base-docker#885b5b3059f40742b8c734dfcfab64138875dee1', nan, '1', 1465387292.0, 3436, 'osbs', 's2i-base-docker-1-6.3.2test', '2016-06-08 15:53:32', 13344873, 1465401212.0, 0, 1465387311.18067, 's2i-base-docker', nan, 'DEFAULT', '6.3.2test', -13900.819329977036]\n",
      "['osbs-buildroot-docker', \"{'image': {}, 'container_koji_task_id': '11152447'}\", '2016-06-08 12:42:04.938316', '2016-06-08 12:41:44', 50072, 498566, 2, 'git://pkgs.devel.redhat.com/rpms/osbs-buildroot-docker#f99e564a034a5339203141e123bfa542417dbe7c', nan, '1.0', 1465389704.0, 3436, 'osbs', 'osbs-buildroot-docker-1.0-29', '2016-06-08 16:33:22', 13345085, 1465403602.0, 0, 1465389724.93832, 'osbs-buildroot-docker', nan, 'DEFAULT', '29', -13877.061680078506]\n",
      "['openshift-sti-base-docker', \"{'image': {}, 'container_koji_task_id': '11152964'}\", '2016-06-08 13:37:57.659958', '2016-06-08 13:37:40', 53044, 498577, 1, 'git://pkgs.devel.redhat.com/rpms/openshift-sti-base-docker#2621cdb8c8d6ffcf9c29bdf7d5ab44211a133f32', nan, '1.0', 1465393060.0, 3436, 'osbs', 'openshift-sti-base-docker-1.0-40', '2016-06-08 17:28:33', 13345498, 1465406913.0, 0, 1465393077.65996, 'openshift-sti-base-docker', nan, 'DEFAULT', '40', -13835.34003996849]\n",
      "['rhel-server-docker', \"{'image': {}, 'container_koji_task_id': '11153000', 'filesystem_koji_task_id': '11153014'}\", '2016-06-08 13:43:39.387354', '2016-06-08 13:43:09', 46311, 498578, 2, 'git://git.engineering.redhat.com/users/vrutkovs/rhel-server-docker#6aa8f2044dd4c9712013583d508b5607298f03de', nan, '7.2', 1465393389.0, 3436, 'osbs', 'rhel-server-docker-7.2-1.vrutkovs.9', '2016-06-08 17:33:11', 13345526, 1465407191.0, 0, 1465393419.38735, 'rhel-server-docker', nan, 'DEFAULT', '1.vrutkovs.9', -13771.612649917603]\n",
      "['openshift-sti-ruby-docker', \"{'image': {}, 'container_koji_task_id': '11153096'}\", '2016-06-08 14:12:28.658954', '2016-06-08 14:12:06', 53049, 498584, 1, 'git://pkgs.devel.redhat.com/rpms/openshift-sti-ruby-docker#d0beab2bbc577101bce78bf8c3c71926e46b54af', nan, '2.0', 1465395126.0, 3436, 'osbs', 'openshift-sti-ruby-docker-2.0-38', '2016-06-08 17:44:52', 13345777, 1465407892.0, 0, 1465395148.65895, 'openshift-sti-ruby-docker', nan, 'DEFAULT', '38', -12743.341049909592]\n",
      "['openshift-sti-nodejs-docker', \"{'image': {}, 'container_koji_task_id': '11153083'}\", '2016-06-08 14:12:48.786679', '2016-06-08 14:12:22', 53045, 498585, 1, 'git://pkgs.devel.redhat.com/rpms/openshift-sti-nodejs-docker#d6b9dba90f160bb75454aa901a9c9309be26a874', nan, '0.10', 1465395142.0, 3436, 'osbs', 'openshift-sti-nodejs-docker-0.10-39', '2016-06-08 17:41:41', 13345784, 1465407701.0, 0, 1465395168.78668, 'openshift-sti-nodejs-docker', nan, 'DEFAULT', '39', -12532.213320016861]\n",
      "['openshift-sti-perl-docker', \"{'image': {}, 'container_koji_task_id': '11153087'}\", '2016-06-08 14:13:15.297326', '2016-06-08 14:12:48', 53046, 498586, 1, 'git://pkgs.devel.redhat.com/rpms/openshift-sti-perl-docker#7497b8d123ef9f139d4f03b62351268086b4f57f', nan, '5.16', 1465395168.0, 3436, 'osbs', 'openshift-sti-perl-docker-5.16-41', '2016-06-08 17:42:27', 13345786, 1465407747.0, 0, 1465395195.2973301, 'openshift-sti-perl-docker', nan, 'DEFAULT', '41', -12551.702669858932]\n",
      "['openshift-sti-php-docker', \"{'image': {}, 'container_koji_task_id': '11153091'}\", '2016-06-08 14:14:24.913573', '2016-06-08 14:13:49', 53047, 498587, 1, 'git://pkgs.devel.redhat.com/rpms/openshift-sti-php-docker#d4fe4c8876934f67a4df021d426036e016064575', nan, '5.5', 1465395229.0, 3436, 'osbs', 'openshift-sti-php-docker-5.5-38', '2016-06-08 17:43:16', 13345801, 1465407796.0, 0, 1465395264.91357, 'openshift-sti-php-docker', nan, 'DEFAULT', '38', -12531.086430072784]\n"
     ]
    }
   ],
   "source": [
    "for i in mystery_machine:\n",
    "    print i"
   ]
  },
  {
   "cell_type": "code",
   "execution_count": 117,
   "metadata": {},
   "outputs": [
    {
     "name": "stdout",
     "output_type": "stream",
     "text": [
      "Total builds present after filtering those with NaN:  109356\n",
      "Total builds with non-zero wait time:                 18460\n",
      "Total builds with zero wait time:                     90862\n",
      "Number of builds having NEGATIVE wait time:           34\n",
      "==================================================================\n",
      "Total Docker builds with non-zero wait time:          18460\n",
      "Total non_docker builds with zero wait time:          90862\n"
     ]
    }
   ],
   "source": [
    "# Builds having waiting time >0 and ==0 and confirming that only\n",
    "# docker builds have non-zero wait times.\n",
    "\n",
    "print 'Total builds present after filtering those with NaN: ', len(data_df)\n",
    "\n",
    "builds_nonzero_wait = data_df[data_df['waiting_time(seconds)']>0]\n",
    "print \"Total builds with non-zero wait time:                \", len(builds_nonzero_wait)\n",
    "docker_builds_nonzero_wait = builds_nonzero_wait[pd.notnull(builds_nonzero_wait['extra'])].values.tolist()\n",
    "\n",
    "\n",
    "builds_zero_wait = data_df[data_df['waiting_time(seconds)'] == 0.000]\n",
    "print \"Total builds with zero wait time:                    \", len(builds_zero_wait)\n",
    "non_docker_builds_zero_wait = builds_zero_wait[pd.isnull(builds_zero_wait['extra'])].values.tolist()\n",
    "print \"Number of builds having NEGATIVE wait time:          \", len(mystery_machine)\n",
    "print \"==================================================================\"\n",
    "\n",
    "print \"Total Docker builds with non-zero wait time:         \", len(docker_builds_nonzero_wait)\n",
    "print \"Total non_docker builds with zero wait time:         \", len(non_docker_builds_zero_wait)"
   ]
  },
  {
   "cell_type": "code",
   "execution_count": null,
   "metadata": {
    "collapsed": true
   },
   "outputs": [],
   "source": []
  },
  {
   "cell_type": "code",
   "execution_count": 12,
   "metadata": {
    "collapsed": true
   },
   "outputs": [],
   "source": [
    "#     def copy_data_in_csv(self, docs): \n",
    "#         # copy builds in csv file\n",
    "#         writer = csv.writer(csvfile, delimiter=',', fieldnames=[])\n",
    "#         for build in docs:\n",
    "#             print build\n",
    "#             break\n",
    "#         with open('test.csv', 'a') as csvfile:\n",
    "#             if not build[\"creation_time\"] or not build[\"start_time\"]: \n",
    "#                 diff = None \n",
    "#             else: \n",
    "#                 if build[\"creation_time\"].find(\".\") != -1:\n",
    "#                     created_time = datetime.datetime.strptime(build[\"creation_time\"], '%Y-%m-%d %H:%M:%S.%f')\n",
    "#                 else:\n",
    "#                     created_time = datetime.datetime.strptime(build[\"creation_time\"], '%Y-%m-%d %H:%M:%S')\n",
    "\n",
    "#                 if build[\"start_time\"].find(\".\") != -1:\n",
    "#                     start_time = datetime.datetime.strptime(build[\"start_time\"], '%Y-%m-%d %H:%M:%S.%f')\n",
    "#                 else:\n",
    "#                     start_time = datetime.datetime.strptime(build[\"start_time\"], '%Y-%m-%d %H:%M:%S')\n",
    "#                 diff = str(created_time - start_time)\n",
    "\n",
    "#         writer.writerow([build[\"package_name\"], build[\"extra\"], build[\"creation_time\"], build[\"completion_time\"], build[\"package_id\"], build[\"build_id\"], build[\"state\"], build[\"source\"], build[\"epoch\"], build[\"version\"], build[\"completion_ts\"], build[\"owner_id\"], build[\"owner_name\"], build[\"nvr\"], build[\"start_time\"], build[\"creation_event_id\"], build[\"start_ts\"], build[\"volume_id\"], build[\"creation_ts\"], build[\"name\"], build[\"task_id\"], build[\"release\"], diff])\n"
   ]
  }
 ],
 "metadata": {
  "kernelspec": {
   "display_name": "Python 2",
   "language": "python",
   "name": "python2"
  },
  "language_info": {
   "codemirror_mode": {
    "name": "ipython",
    "version": 2
   },
   "file_extension": ".py",
   "mimetype": "text/x-python",
   "name": "python",
   "nbconvert_exporter": "python",
   "pygments_lexer": "ipython2",
   "version": "2.7.5"
  }
 },
 "nbformat": 4,
 "nbformat_minor": 2
}
